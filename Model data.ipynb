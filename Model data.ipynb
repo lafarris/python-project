{
 "cells": [
  {
   "cell_type": "markdown",
   "metadata": {},
   "source": [
    "# Model data"
   ]
  },
  {
   "cell_type": "markdown",
   "metadata": {},
   "source": [
    "## Downloading data from ncdc.noaa.gov\n",
    "   #### 1.) We selected model data for the 1800Z (noon our time) run on January 21, 2016 (interesting weather day).\n",
    "   #### 2.) Read in GRIB files for that day using..."
   ]
  },
  {
   "cell_type": "code",
   "execution_count": 2,
   "metadata": {
    "collapsed": false
   },
   "outputs": [],
   "source": [
    "from netCDF4 import Dataset\n",
    "import numpy as np\n",
    "\n",
    "NAM_20160121_1800_000 = 'namanl_218_20160121_1800_000.grb.nc' \n",
    "f0 = Dataset(NAM_20160121_1800_000, mode='r')\n",
    "\n",
    "# NAM_20160121_1800_100 = 'namanl_218_20160121_1800_001.grb.nc' \n",
    "# f1 = Dataset(NAM_20160121_1800_100, mode='r')\n",
    "\n",
    "# NAM_20160121_1800_200 = 'namanl_218_20160121_1800_002.grb.nc' \n",
    "# f2 = Dataset(NAM_20160121_1800_200, mode='r')\n",
    "\n",
    "# NAM_20160121_1800_300 = 'namanl_218_20160121_1800_003.grb.nc' \n",
    "# f3 = Dataset(NAM_20160121_1800_300, mode='r')\n",
    "\n",
    "# NAM_20160121_1800_600 = 'namanl_218_20160121_1800_006.grb.nc' \n",
    "# f6 = Dataset(NAM_20160121_1800_600, mode='r')\n",
    "\n",
    "\n",
    "pwat = f0.variables['Precipitable_water'][:]\n",
    "surf_temp = f0.variables['Temperature_surface'][:]\n",
    "mslp = f0.variables['Mean_sea_level_pressure_NAM_model'][:]\n",
    "RH = f0.variables['Relative_humidity'][:]"
   ]
  },
  {
   "cell_type": "code",
   "execution_count": null,
   "metadata": {
    "collapsed": false
   },
   "outputs": [],
   "source": []
  },
  {
   "cell_type": "code",
   "execution_count": null,
   "metadata": {
    "collapsed": true
   },
   "outputs": [],
   "source": []
  }
 ],
 "metadata": {
  "kernelspec": {
   "display_name": "Python 3",
   "language": "python",
   "name": "python3"
  },
  "language_info": {
   "codemirror_mode": {
    "name": "ipython",
    "version": 3
   },
   "file_extension": ".py",
   "mimetype": "text/x-python",
   "name": "python",
   "nbconvert_exporter": "python",
   "pygments_lexer": "ipython3",
   "version": "3.5.1"
  }
 },
 "nbformat": 4,
 "nbformat_minor": 0
}
