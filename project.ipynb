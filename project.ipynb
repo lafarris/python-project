{
 "cells": [
  {
   "cell_type": "markdown",
   "metadata": {
    "collapsed": true
   },
   "source": [
    "# Awesome 4-panel Project"
   ]
  },
  {
   "cell_type": "markdown",
   "metadata": {},
   "source": [
    "## Loading netCDF data"
   ]
  },
  {
   "cell_type": "code",
   "execution_count": 1,
   "metadata": {
    "collapsed": true
   },
   "outputs": [],
   "source": [
    "from netCDF4 import Dataset\n",
    "import numpy as np\n",
    "\n",
    "# my_example_nc_file = '/Users/jhamman/Desktop/my_example_nc_data.nc'\n",
    "# fh = Dataset(my_example_nc_file, mode='r')\n",
    "\n",
    "# lons = fh.variables['lon'][:]\n",
    "# lats = fh.variables['lat'][:]"
   ]
  },
  {
   "cell_type": "code",
   "execution_count": 2,
   "metadata": {
    "collapsed": false
   },
   "outputs": [
    {
     "name": "stderr",
     "output_type": "stream",
     "text": [
      "C:\\Users\\Laura\\Anaconda3\\lib\\site-packages\\IPython\\html.py:14: ShimWarning: The `IPython.html` package has been deprecated. You should import from `notebook` instead. `IPython.html.widgets` has moved to `ipywidgets`.\n",
      "  \"`IPython.html.widgets` has moved to `ipywidgets`.\", ShimWarning)\n"
     ]
    }
   ],
   "source": [
    "from ipywidgets import interact, fixed, Dropdown, Button, Box              # random widgets...\n",
    "from IPython.html import widgets\n",
    "\n",
    "def add(x,y):\n",
    "    return x + y\n"
   ]
  },
  {
   "cell_type": "code",
   "execution_count": 3,
   "metadata": {
    "collapsed": false
   },
   "outputs": [
    {
     "data": {
      "text/plain": [
       "8"
      ]
     },
     "metadata": {},
     "output_type": "display_data"
    }
   ],
   "source": [
    "interact(add, x=(0,9), y=(0,9))"
   ]
  },
  {
   "cell_type": "markdown",
   "metadata": {},
   "source": [
    "## Creating interactive window"
   ]
  },
  {
   "cell_type": "code",
   "execution_count": 6,
   "metadata": {
    "collapsed": false
   },
   "outputs": [],
   "source": [
    "import tkinter\n",
    "window = tkinter.Tk()\n",
    "window.title(\"Entry Window\")\n",
    "\n",
    "usename = tkinter.Label(window, text=\"Username\")\n",
    "usename.pack()\n",
    "\n",
    "ent1 = tkinter.Entry(window)\n",
    "ent1.pack()\n",
    "\n",
    "password = tkinter.Label(window, text=\"Password\")\n",
    "password.pack()\n",
    "\n",
    "ent2 = tkinter.Entry(window)\n",
    "ent2.pack()\n",
    "\n",
    "btn = tkinter.Button(window, text=\"Login\")\n",
    "btn.pack()\n",
    "\n",
    "window.mainloop()"
   ]
  },
  {
   "cell_type": "code",
   "execution_count": 5,
   "metadata": {
    "collapsed": false
   },
   "outputs": [],
   "source": [
    "# this imports the 'tkinter' module\n",
    "import tkinter\n",
    "# creates a window\n",
    "window = tkinter.Tk()\n",
    "# This gives the window a fancy title\n",
    "window.title(\"Hello, world!\")\n",
    "\n",
    "# This changes the size of the window\n",
    "window.geometry(\"300x300\")\n",
    "\n",
    "# Choose  satellite data...\n",
    "satdata= tkinter.Label(window, text='sat dat')\n",
    "satdata.pack()\n",
    "\n",
    "# created a label\n",
    "lbl = tkinter.Label(window, text='Label')\n",
    "# pack(add) the widget to the window\n",
    "lbl.pack()\n",
    "\n",
    "# text entry widget\n",
    "ent = tkinter.Entry(window)\n",
    "ent.pack()\n",
    "# button widget\n",
    "btn = tkinter.Button(window, text='Button')\n",
    "btn.pack()\n",
    "\n",
    "\n",
    "# must make fancy title before this piece of code: (it starts the application)\n",
    "window.mainloop()"
   ]
  },
  {
   "cell_type": "code",
   "execution_count": null,
   "metadata": {
    "collapsed": false
   },
   "outputs": [],
   "source": [
    "import tkinter\n",
    "from tkinter import messagebox\n",
    "\n",
    "top = tkinter.Tk()\n",
    "\n",
    "def helloCallBack():\n",
    "   messagebox.showinfo( \"Hello Python\", \"Hello World\")\n",
    "\n",
    "B = tkinter.Button(top, text =\"Hello\", command = helloCallBack)\n",
    "\n",
    "B.pack()\n",
    "top.mainloop()\n"
   ]
  },
  {
   "cell_type": "code",
   "execution_count": 1,
   "metadata": {
    "collapsed": false
   },
   "outputs": [],
   "source": [
    "from tkinter import Tk, Label, Button\n",
    "\n",
    "class MyFirstGUI:\n",
    "    def __init__(self, master):\n",
    "        self.master = master\n",
    "        master.title(\"A simple GUI\")\n",
    "\n",
    "        self.label = Label(master, text=\"This is our first GUI!\")\n",
    "        self.label.pack()\n",
    "\n",
    "        self.greet_button = Button(master, text=\"Greet\", command=self.greet)\n",
    "        self.greet_button.pack()\n",
    "\n",
    "        self.close_button = Button(master, text=\"Close\", command=master.quit)\n",
    "        self.close_button.pack()\n",
    "\n",
    "    def greet(self):\n",
    "        print(\"Greetings!\")\n",
    "\n",
    "root = Tk()\n",
    "my_gui = MyFirstGUI(root)\n",
    "root.mainloop()"
   ]
  },
  {
   "cell_type": "code",
   "execution_count": null,
   "metadata": {
    "collapsed": true
   },
   "outputs": [],
   "source": []
  }
 ],
 "metadata": {
  "kernelspec": {
   "display_name": "Python 3",
   "language": "python",
   "name": "python3"
  },
  "language_info": {
   "codemirror_mode": {
    "name": "ipython",
    "version": 3
   },
   "file_extension": ".py",
   "mimetype": "text/x-python",
   "name": "python",
   "nbconvert_exporter": "python",
   "pygments_lexer": "ipython3",
   "version": "3.5.1"
  }
 },
 "nbformat": 4,
 "nbformat_minor": 0
}
